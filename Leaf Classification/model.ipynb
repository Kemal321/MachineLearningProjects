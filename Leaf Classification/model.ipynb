{
 "cells": [
  {
   "cell_type": "code",
   "execution_count": 3,
   "id": "9b96e9a4",
   "metadata": {},
   "outputs": [],
   "source": [
    "import tensorflow as tf\n",
    "from keras.preprocessing.image import ImageDataGenerator"
   ]
  },
  {
   "cell_type": "code",
   "execution_count": 4,
   "id": "dd4cac8d",
   "metadata": {},
   "outputs": [],
   "source": [
    "LOSS_FUNCTION = \"categorical_crossentropy\"\n",
    "NUM_EPOCH = 10\n",
    "BATCH = 64\n",
    "OPTIMIZER =\"Adam\"\n"
   ]
  },
  {
   "cell_type": "code",
   "execution_count": 5,
   "id": "a1f7c84f",
   "metadata": {},
   "outputs": [
    {
     "name": "stdout",
     "output_type": "stream",
     "text": [
      "Found 686 images belonging to 2 classes.\n",
      "Found 88 images belonging to 2 classes.\n"
     ]
    }
   ],
   "source": [
    "train_datagen = ImageDataGenerator(\n",
    "    rescale=1./255,\n",
    "\n",
    "    rotation_range=40,\n",
    "\n",
    "    width_shift_range=0.2,\n",
    "\n",
    "    height_shift_range=0.2,\n",
    "\n",
    "    shear_range=0.2,\n",
    "\n",
    "    zoom_range=0.2,\n",
    "\n",
    "    horizontal_flip=True,\n",
    "\n",
    "    fill_mode='nearest'\n",
    ")\n",
    "\n",
    "validation_datagen = ImageDataGenerator(\n",
    "    rescale=1./255,\n",
    "\n",
    "    rotation_range=40,\n",
    "\n",
    "    width_shift_range=0.2,\n",
    "\n",
    "    height_shift_range=0.2,\n",
    "\n",
    "    shear_range=0.2,\n",
    "\n",
    "    zoom_range=0.2,\n",
    "\n",
    "    horizontal_flip=True,\n",
    "\n",
    "    fill_mode='nearest'\n",
    ")\n",
    "\n",
    "\n",
    "TRAIN_DIRECTORY_LOCATION = 'leafs/train'\n",
    "VAL_DIRECTORY_LOCATION = 'leafs/validation'\n",
    "TARGET_SIZE = (500,500)\n",
    "CLASS_MODE = 'categorical'\n",
    "\n",
    "train_generator = train_datagen.flow_from_directory(\n",
    "    TRAIN_DIRECTORY_LOCATION,\n",
    "    target_size = TARGET_SIZE,\n",
    "    batch_size = 32,\n",
    "    class_mode = CLASS_MODE\n",
    ")\n",
    "\n",
    "validation_generator = validation_datagen.flow_from_directory(\n",
    "    VAL_DIRECTORY_LOCATION,\n",
    "    target_size = TARGET_SIZE,\n",
    "    batch_size = 32,\n",
    "    class_mode = CLASS_MODE\n",
    ")\n"
   ]
  },
  {
   "cell_type": "code",
   "execution_count": 6,
   "id": "6d99b9ee",
   "metadata": {},
   "outputs": [
    {
     "name": "stdout",
     "output_type": "stream",
     "text": [
      "Model: \"sequential\"\n",
      "_________________________________________________________________\n",
      " Layer (type)                Output Shape              Param #   \n",
      "=================================================================\n",
      " conv2d (Conv2D)             (None, 498, 498, 32)      896       \n",
      "                                                                 \n",
      " max_pooling2d (MaxPooling2D  (None, 249, 249, 32)     0         \n",
      " )                                                               \n",
      "                                                                 \n",
      " conv2d_1 (Conv2D)           (None, 247, 247, 64)      18496     \n",
      "                                                                 \n",
      " max_pooling2d_1 (MaxPooling  (None, 123, 123, 64)     0         \n",
      " 2D)                                                             \n",
      "                                                                 \n",
      " conv2d_2 (Conv2D)           (None, 121, 121, 128)     73856     \n",
      "                                                                 \n",
      " max_pooling2d_2 (MaxPooling  (None, 60, 60, 128)      0         \n",
      " 2D)                                                             \n",
      "                                                                 \n",
      " conv2d_3 (Conv2D)           (None, 58, 58, 64)        73792     \n",
      "                                                                 \n",
      " max_pooling2d_3 (MaxPooling  (None, 29, 29, 64)       0         \n",
      " 2D)                                                             \n",
      "                                                                 \n",
      " flatten (Flatten)           (None, 53824)             0         \n",
      "                                                                 \n",
      " dense (Dense)               (None, 512)               27558400  \n",
      "                                                                 \n",
      " dense_1 (Dense)             (None, 2)                 1026      \n",
      "                                                                 \n",
      "=================================================================\n",
      "Total params: 27,726,466\n",
      "Trainable params: 27,726,466\n",
      "Non-trainable params: 0\n",
      "_________________________________________________________________\n"
     ]
    }
   ],
   "source": [
    "\n",
    "model = tf.keras.models.Sequential([\n",
    "\n",
    "   tf.keras.layers.Conv2D(32, (3,3), activation='relu', input_shape=(500, 500, 3)),\n",
    "\n",
    "   tf.keras.layers.MaxPooling2D(2, 2),\n",
    "\n",
    "   tf.keras.layers.Conv2D(64, (3,3), activation='relu'),\n",
    "\n",
    "   tf.keras.layers.MaxPooling2D(2,2), \n",
    "    \n",
    "   tf.keras.layers.Conv2D(128, (3,3), activation='relu'),\n",
    "\n",
    "   tf.keras.layers.MaxPooling2D(2,2),\n",
    "\n",
    "   tf.keras.layers.Conv2D(64, (3,3), activation='relu'),\n",
    "\n",
    "   tf.keras.layers.MaxPooling2D(2,2),\n",
    "\n",
    "   tf.keras.layers.Flatten(),\n",
    "\n",
    "   tf.keras.layers.Dense(512, activation='relu'),\n",
    "\n",
    "   tf.keras.layers.Dense(2, activation='softmax')\n",
    "])\n",
    "model.summary()\n"
   ]
  },
  {
   "cell_type": "code",
   "execution_count": 7,
   "id": "9abcec7c",
   "metadata": {},
   "outputs": [
    {
     "name": "stdout",
     "output_type": "stream",
     "text": [
      "Epoch 1/10\n",
      "22/22 [==============================] - 227s 10s/step - loss: 1.0053 - accuracy: 0.5452 - val_loss: 0.6391 - val_accuracy: 0.7841\n",
      "Epoch 2/10\n",
      "22/22 [==============================] - 234s 11s/step - loss: 0.5567 - accuracy: 0.7478 - val_loss: 0.4682 - val_accuracy: 0.7841\n",
      "Epoch 3/10\n",
      "22/22 [==============================] - 242s 11s/step - loss: 0.5024 - accuracy: 0.7857 - val_loss: 0.4629 - val_accuracy: 0.7386\n",
      "Epoch 4/10\n",
      "22/22 [==============================] - 246s 11s/step - loss: 0.4305 - accuracy: 0.8090 - val_loss: 0.3819 - val_accuracy: 0.8295\n",
      "Epoch 5/10\n",
      "22/22 [==============================] - 249s 11s/step - loss: 0.3802 - accuracy: 0.8382 - val_loss: 0.2961 - val_accuracy: 0.8636\n",
      "Epoch 6/10\n",
      "22/22 [==============================] - 247s 11s/step - loss: 0.3989 - accuracy: 0.8163 - val_loss: 0.4566 - val_accuracy: 0.7500\n",
      "Epoch 7/10\n",
      "22/22 [==============================] - 248s 11s/step - loss: 0.3257 - accuracy: 0.8557 - val_loss: 0.2368 - val_accuracy: 0.9091\n",
      "Epoch 8/10\n",
      "22/22 [==============================] - 252s 11s/step - loss: 0.3475 - accuracy: 0.8499 - val_loss: 0.2437 - val_accuracy: 0.8636\n",
      "Epoch 9/10\n",
      "22/22 [==============================] - 254s 11s/step - loss: 0.2903 - accuracy: 0.8746 - val_loss: 0.2942 - val_accuracy: 0.8636\n",
      "Epoch 10/10\n",
      "22/22 [==============================] - 273s 12s/step - loss: 0.3065 - accuracy: 0.8717 - val_loss: 0.2565 - val_accuracy: 0.9432\n"
     ]
    },
    {
     "name": "stderr",
     "output_type": "stream",
     "text": [
      "WARNING:absl:Found untraced functions such as _jit_compiled_convolution_op, _jit_compiled_convolution_op, _jit_compiled_convolution_op, _jit_compiled_convolution_op, _update_step_xla while saving (showing 5 of 5). These functions will not be directly callable after loading.\n"
     ]
    },
    {
     "name": "stdout",
     "output_type": "stream",
     "text": [
      "INFO:tensorflow:Assets written to: C:\\Users\\KEMALE~1\\AppData\\Local\\Temp\\tmpoil1fpfl\\assets\n"
     ]
    },
    {
     "name": "stderr",
     "output_type": "stream",
     "text": [
      "INFO:tensorflow:Assets written to: C:\\Users\\KEMALE~1\\AppData\\Local\\Temp\\tmpoil1fpfl\\assets\n"
     ]
    }
   ],
   "source": [
    "model.compile(\n",
    "    loss = LOSS_FUNCTION,\n",
    "    optimizer = OPTIMIZER,\n",
    "    metrics = ['accuracy']\n",
    ")\n",
    "\n",
    "model.fit(\n",
    "      train_generator,\n",
    "      epochs = NUM_EPOCH,\n",
    "      verbose = 1,\n",
    "      validation_data = validation_generator)\n",
    "\n",
    "model.save(f\"./yaprak.h5\")\n",
    "\n",
    "\n",
    "converter = tf.lite.TFLiteConverter.from_keras_model(model)\n",
    "tflite_model = converter.convert()\n"
   ]
  },
  {
   "cell_type": "code",
   "execution_count": 8,
   "id": "f949aa25",
   "metadata": {},
   "outputs": [],
   "source": [
    "with open(\"model.tflite\", \"wb\") as f:\n",
    "    f.write(tflite_model)"
   ]
  },
  {
   "cell_type": "code",
   "execution_count": null,
   "id": "1dbf004e",
   "metadata": {},
   "outputs": [],
   "source": []
  }
 ],
 "metadata": {
  "kernelspec": {
   "display_name": "Python 3 (ipykernel)",
   "language": "python",
   "name": "python3"
  },
  "language_info": {
   "codemirror_mode": {
    "name": "ipython",
    "version": 3
   },
   "file_extension": ".py",
   "mimetype": "text/x-python",
   "name": "python",
   "nbconvert_exporter": "python",
   "pygments_lexer": "ipython3",
   "version": "3.10.9"
  }
 },
 "nbformat": 4,
 "nbformat_minor": 5
}
